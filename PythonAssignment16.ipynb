{
 "cells": [
  {
   "cell_type": "code",
   "execution_count": 12,
   "metadata": {},
   "outputs": [],
   "source": [
    "from itertools import permutations,combinations\n",
    "import math"
   ]
  },
  {
   "cell_type": "code",
   "execution_count": 8,
   "metadata": {},
   "outputs": [
    {
     "name": "stdout",
     "output_type": "stream",
     "text": [
      "Probability that a person undertaking that test has answered exactly 5 questions wrong is  3.4264958230778575e-06\n"
     ]
    }
   ],
   "source": [
    "#Problem Statement 1:\n",
    "#A test is conducted which is consisting of 20 MCQs (multiple choices questions) with \n",
    "#every MCQ having its four options out of which only one is correct. Determine the\n",
    "#probability that a person undertaking that test has answered exactly 5 questions wrong.\n",
    "\n",
    "n=20  #Number of trials\n",
    "k=(n-5) #Number of successes\n",
    "s=0.25  #Probability of success\n",
    "\n",
    "c=math.factorial(n)/(math.factorial(k)*math.factorial(n-k))  #Coefficient\n",
    "p=c*(s**k)*((1-s)**(n-k))   #Probabibility of k successes in n trials\n",
    "\n",
    "print(\"Probability that a person undertaking that test has answered exactly 5 questions wrong is \",p)"
   ]
  },
  {
   "cell_type": "code",
   "execution_count": 19,
   "metadata": {},
   "outputs": [
    {
     "name": "stdout",
     "output_type": "stream",
     "text": [
      "Probability of getting a “D” exactly 5 times is  0.029531204310524296\n"
     ]
    }
   ],
   "source": [
    "#Problem Statement 2:\n",
    "#A die marked A to E is rolled 50 times. Find the probability of getting a “D” exactly 5 times.\n",
    "\n",
    "n,k,s=50,5,1/5\n",
    "\n",
    "c=math.factorial(n)/(math.factorial(k)*math.factorial(n-k))\n",
    "p=c*(s**k)*((1-s)**(n-k))\n",
    "\n",
    "print(\"Probability of getting a “D” exactly 5 times is \",p)"
   ]
  },
  {
   "cell_type": "code",
   "execution_count": 30,
   "metadata": {},
   "outputs": [
    {
     "name": "stdout",
     "output_type": "stream",
     "text": [
      "Probability of getting 2 red balls(RR) is  0.3333333333333333\n",
      "Probability of getting 1st red ball and 2nd black ball(RB) is  0.26666666666666666\n",
      "Probability of getting 1st black ball and 2nd red ball(BR) is  0.26666666666666666\n",
      "Probability of getting 2 black balls(BB) is  0.13333333333333333\n"
     ]
    }
   ],
   "source": [
    "#Problem Statement 3:\n",
    "#Two balls are drawn at random in succession without replacement from an urn containing 4 red balls and 6 black balls.\n",
    "#Find the probabilities of all the possible outcomes.\n",
    "\n",
    "t,red,black=(6+4),6,4    #total balls,total red balls, total black balls respectively\n",
    "\n",
    "print(\"Probability of getting 2 red balls(RR) is \", (red/t)*((red-1)/(t-1)) ) #Possible outcome 1\n",
    " \n",
    "print(\"Probability of getting 1st red ball and 2nd black ball(RB) is \", (red/t)*(black/(t-1)) )  #Possible outcome 2\n",
    "\n",
    "print(\"Probability of getting 1st black ball and 2nd red ball(BR) is \", (black/t)*(red/(t-1)) )   #Possible outcome 3\n",
    "\n",
    "print(\"Probability of getting 2 black balls(BB) is \", (black/t)*((black-1)/(t-1)) )      #Possible outcome 4"
   ]
  }
 ],
 "metadata": {
  "kernelspec": {
   "display_name": "Python 3",
   "language": "python",
   "name": "python3"
  },
  "language_info": {
   "codemirror_mode": {
    "name": "ipython",
    "version": 3
   },
   "file_extension": ".py",
   "mimetype": "text/x-python",
   "name": "python",
   "nbconvert_exporter": "python",
   "pygments_lexer": "ipython3",
   "version": "3.6.5"
  }
 },
 "nbformat": 4,
 "nbformat_minor": 2
}
